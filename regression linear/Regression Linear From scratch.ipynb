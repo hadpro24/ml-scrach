{
 "cells": [
  {
   "cell_type": "markdown",
   "metadata": {},
   "source": [
    "# Contexts"
   ]
  },
  {
   "cell_type": "markdown",
   "metadata": {},
   "source": [
    "    L'idee de ce projet est d'aide les gens qui veulent en savoir plus sur les maths (et les algorithms) qui sont caches derriere outils de machine learning.\n",
    "    Permettre de comprendre un peu plus en profondeur la therorie derriere le machie learning.\n",
    "    Dans ce jupyter nous allons commencer avec la Regression Linear, un algorithme beaucoup plus simple."
   ]
  },
  {
   "cell_type": "markdown",
   "metadata": {},
   "source": [
    "# Explications"
   ]
  },
  {
   "cell_type": "markdown",
   "metadata": {},
   "source": [
    "    La regression linear est etablie par une equation : \n",
    "$$ y = a*X + b $$\n"
   ]
  },
  {
   "cell_type": "markdown",
   "metadata": {},
   "source": [
    "    L'objectif du model sera de trouver les bons parameters pour : \n",
    "$$a , b$$"
   ]
  },
  {
   "cell_type": "markdown",
   "metadata": {},
   "source": [
    "\n",
    "    \n",
    "    On a donc besoin d'une fonction de cout (ou fonction erreur) Pour nous permettre d'evaluer le model et par la suite apprendre sur les parameters. Cette fonction est definie par : \n",
    "    "
   ]
  },
  {
   "cell_type": "markdown",
   "metadata": {},
   "source": [
    "![title](quicklatex.com-dc79559d002feb0b9693f668a3a4a537_l3.png)"
   ]
  },
  {
   "cell_type": "markdown",
   "metadata": {},
   "source": [
    "    Explication : supposons que notre model predit une valeur de y=600 alors qu'il devrait predire 550 ?\n",
    "    On dit alors que notre model a fait une erreur de -50 (550-600) on peut donc parfois obtenir des erreurs negatives, pour palier a ce probleme... on a deux solutions :\n",
    "        Soit on prens la valeurs absolue de l'erreur : |550-600|=50 (Celui est la procedure avec mean absolute error)\n",
    "        Soit on prends la racine carree du resultat soit (-50)**2 = 2500 (on a donc une erreur trop grand il faut donc le penaliser) mais avant on applique cela a tous notre dataset ainsi on la somme precedente."
   ]
  },
  {
   "cell_type": "markdown",
   "metadata": {},
   "source": [
    "    la representation de cette fonction est convexe (une fonction qui a un seul minima possible)"
   ]
  },
  {
   "cell_type": "markdown",
   "metadata": {},
   "source": [
    "![title](5141ef4a2c46eeb5f611f3454eda810c.gif)"
   ]
  },
  {
   "cell_type": "markdown",
   "metadata": {},
   "source": [
    "    Cette fonction est donc un algorithm iterative, il faut applique des derives partielles et avance celle une certain valeur (c'est ce qu'on appelle taux d'apprentissage ou encore learning rate). "
   ]
  },
  {
   "cell_type": "markdown",
   "metadata": {},
   "source": [
    "![SegmentLocal](gradient-descent.gif \"segment\")"
   ]
  },
  {
   "cell_type": "markdown",
   "metadata": {},
   "source": [
    "    Il faut donc trouver les gradients pour chaque parameters : a,b"
   ]
  },
  {
   "cell_type": "markdown",
   "metadata": {},
   "source": [
    "![title](grd-desc-1-768x460.jpg)"
   ]
  },
  {
   "cell_type": "markdown",
   "metadata": {},
   "source": [
    "    A savoir : Tout ce qu'on fait en realite, c'est de derive la fonction et calculer le nouveau parameters en retranchant a chaque fois l'encienne valeur et comme la decente de gratient a un seul mina possible (une fonction convexe)... apres plus repetition on va donc tomber sur le minima.\n",
    "    Mais attention, vous remarquez qu'on multiplie par le learning reate apres avoir calucle la somme des erreurs, cette valeur est important... il faut savoir le choisir, en generale cette valeur est tres faible et varie entre 0.001 a 0.1.\n",
    "    Si cette valeur est trop grand on risque de ne pas tomber sur le minima... on ferra des sauts sans jamais tomber decus, par contre si cette valeur est tres petite on risque de mettre bcp de temps avant d'y arriver on aura donc besoin de beaucoup d'iteration.\n",
    "    \n",
    "    "
   ]
  },
  {
   "cell_type": "markdown",
   "metadata": {},
   "source": [
    "    Si vous avez encore des doutes ou que vous n'avez pas tout compris : Je vous recomande de suivre cette \n",
    "    video youtube qui l'explique bien avant de continuer sur le code : \n",
    "   [Gradient decente Thibault Neveu](https://www.youtube.com/watch?v=JGgT7L7wKQM)\n",
    "   ou encore sur wiki [https://fr.wikipedia.org/wiki/Algorithme_du_gradient](https://fr.wikipedia.org/wiki/Algorithme_du_gradient)"
   ]
  },
  {
   "cell_type": "markdown",
   "metadata": {},
   "source": [
    "# Import tools"
   ]
  },
  {
   "cell_type": "code",
   "execution_count": 1,
   "metadata": {},
   "outputs": [],
   "source": [
    "import numpy as np\n",
    "import matplotlib.pyplot as plt\n",
    "from sklearn.datasets import make_regression\n",
    "import pandas as pd\n",
    "import seaborn as sns"
   ]
  },
  {
   "cell_type": "markdown",
   "metadata": {},
   "source": [
    "## Create data"
   ]
  },
  {
   "cell_type": "code",
   "execution_count": 171,
   "metadata": {},
   "outputs": [],
   "source": [
    "np.random.seed(0)\n",
    "x, y = make_regression(n_samples=180, n_features=1, noise=10)"
   ]
  },
  {
   "cell_type": "code",
   "execution_count": 172,
   "metadata": {},
   "outputs": [],
   "source": [
    "from sklearn.model_selection import train_test_split\n",
    "x_train, x_test, y_train, y_test = train_test_split(x, y, test_size=0.2)"
   ]
  },
  {
   "cell_type": "code",
   "execution_count": 173,
   "metadata": {},
   "outputs": [
    {
     "data": {
      "text/plain": [
       "(144, 1)"
      ]
     },
     "execution_count": 173,
     "metadata": {},
     "output_type": "execute_result"
    }
   ],
   "source": [
    "x_train.shape"
   ]
  },
  {
   "cell_type": "code",
   "execution_count": 174,
   "metadata": {},
   "outputs": [
    {
     "data": {
      "text/plain": [
       "(36, 1)"
      ]
     },
     "execution_count": 174,
     "metadata": {},
     "output_type": "execute_result"
    }
   ],
   "source": [
    "x_test.shape"
   ]
  },
  {
   "cell_type": "code",
   "execution_count": 175,
   "metadata": {},
   "outputs": [
    {
     "name": "stdout",
     "output_type": "stream",
     "text": [
      "(144,) (36,)\n"
     ]
    }
   ],
   "source": [
    "print(y_train.shape, y_test.shape)"
   ]
  },
  {
   "cell_type": "code",
   "execution_count": 176,
   "metadata": {},
   "outputs": [
    {
     "data": {
      "text/plain": [
       "<matplotlib.collections.PathCollection at 0x7f212439ab70>"
      ]
     },
     "execution_count": 176,
     "metadata": {},
     "output_type": "execute_result"
    },
    {
     "data": {
      "image/png": "[encoded data removed]",
      "text/plain": [
       "<Figure size 432x288 with 1 Axes>"
      ]
     },
     "metadata": {
      "needs_background": "light"
     },
     "output_type": "display_data"
    }
   ],
   "source": [
    "plt.scatter(x_train, y_train)"
   ]
  },
  {
   "cell_type": "markdown",
   "metadata": {},
   "source": [
    "## Create model"
   ]
  },
  {
   "cell_type": "code",
   "execution_count": 177,
   "metadata": {},
   "outputs": [],
   "source": [
    "class RegressionLinearCustom():\n",
    "    \"\"\"\n",
    "        Implementation Linear Regression Model with gradient decente solution.\n",
    "        The gradient decente use partial derivate.\n",
    "        This model have two essentiel parameters :\n",
    "            - Learning rate : learning_rate (0.01 default)\n",
    "            - max interation : max_iter (1000 default)\n",
    "        The other parameters:\n",
    "            - coefs_ this is coeffients of parameters data\n",
    "            - intercept_ this is intercept of function, can edit it True or False\n",
    "            - error_gradient this is gradient parameters learning.\n",
    "    \"\"\"\n",
    "    \n",
    "    def __init__(self, learning_rate=0.01, max_iter=1000):\n",
    "        \"\"\"\n",
    "            Initializer parameters model\n",
    "        \"\"\"\n",
    "        self.lrate=learning_rate\n",
    "        self.max_iter=max_iter\n",
    "        self.coefs_=None\n",
    "        self.intercept_= 0\n",
    "        self.error_gradient = None\n",
    "        self.is_fited = False\n",
    "        \n",
    "    def error_coefs(self, coefs,intercept_, xi, yi, m, lr):\n",
    "        \"\"\"\n",
    "            Calcul coefs gradient:\n",
    "            -- Parameters :\n",
    "                - xi : value for one sample in data\n",
    "                - yi : real value prediction for this precedent sample\n",
    "                - m : dataset size\n",
    "                - lr : learning rate\n",
    "        \"\"\"\n",
    "        return lr/m * (xi*(coefs*xi+intercept_-yi))\n",
    "    \n",
    "    def error_intercept(self,coefs, intercept_, xi, yi, m, lr):\n",
    "        \"\"\"\n",
    "            Calcul intercept gradient\n",
    "            -- Parameters:\n",
    "                - xi : value for one sample in data\n",
    "                - yi : real value prediction for this precedent sample\n",
    "                - m : dataset size\n",
    "                - lr : learning rate\n",
    "        \"\"\"\n",
    "        return lr/m * sum(coefs*xi+intercept_-yi)\n",
    "    \n",
    "    def cout_function(self, m, coefs, intercept_, xi, yi):\n",
    "        \"\"\"\n",
    "            Gradient function\n",
    "            -- Parameters:\n",
    "                - xi : value for one sample in data\n",
    "                - yi : real value prediction for this precedent sample\n",
    "                - m : dataset size\n",
    "        \"\"\"\n",
    "        return sum((yi - coefs*xi+intercept_)**2)/2*m\n",
    "    \n",
    "    def score(self, x, y):\n",
    "        \"\"\"\n",
    "            Score function\n",
    "        \"\"\"\n",
    "        return 1 - sum((y-self.predict(x))**2)/sum((y-y.mean())**2)\n",
    "        \n",
    "    \n",
    "    def fit(self,x, y):\n",
    "        \"\"\"\n",
    "            Fit fuction, learning parameters\n",
    "            -- Parameters:\n",
    "                - x, sample data\n",
    "                - y, predict data\n",
    "        \"\"\"\n",
    "        \n",
    "        if x.shape[0] != y.shape[0]:\n",
    "            return ValueError(\"x and y must have same sample\")\n",
    "        \n",
    "        m = x.shape[0] # size du dataset\n",
    "        self.coefs_ = np.zeros(x.shape[1]) # nuers of features\n",
    "        error_intermed = None\n",
    "        for _ in range(self.max_iter):\n",
    "            for xi,yi in zip(x,y):\n",
    "                self.coefs_ -= self.error_coefs(self.coefs_,self.intercept_, xi, yi, m, self.lrate) \n",
    "                self.intercept_ -= self.error_intercept(self.coefs_, self.intercept_, xi, yi,m, self.lrate) \n",
    "                self.error_gradient = self.cout_function(m, self.coefs_, self.intercept_, xi, yi)\n",
    "         \n",
    "        self.is_fited = True\n",
    "        print('RegressionLinear(learning_rate={}, max_iter={})'.format(self.lrate, self.max_iter))\n",
    "    \n",
    "    def predict(self, x):\n",
    "        \"\"\"\n",
    "            Predict function : \n",
    "            -- Parameters:\n",
    "                - x, sample data what to predict\n",
    "        \"\"\"\n",
    "        if not self.is_fited:\n",
    "            return ValueError(\"model must fited after predict\")\n",
    "        if x.shape[1] != self.coefs_.shape[0]:\n",
    "            return ValueError(\"the features of x do not have the same size as those to train\")\n",
    "        return (x*self.coefs_).sum(axis=1)+self.intercept_ # equation -- coefs*X + intercept"
   ]
  },
  {
   "cell_type": "code",
   "execution_count": 178,
   "metadata": {},
   "outputs": [],
   "source": [
    "lr = RegressionLinearCustom()"
   ]
  },
  {
   "cell_type": "code",
   "execution_count": 179,
   "metadata": {},
   "outputs": [
    {
     "name": "stdout",
     "output_type": "stream",
     "text": [
      "RegressionLinear(learning_rate=0.01, max_iter=1000)\n"
     ]
    }
   ],
   "source": [
    "lr.fit(x_train,y_train)"
   ]
  },
  {
   "cell_type": "code",
   "execution_count": 180,
   "metadata": {},
   "outputs": [
    {
     "data": {
      "text/plain": [
       "array([21.1303301])"
      ]
     },
     "execution_count": 180,
     "metadata": {},
     "output_type": "execute_result"
    }
   ],
   "source": [
    "lr.coefs_"
   ]
  },
  {
   "cell_type": "code",
   "execution_count": 181,
   "metadata": {},
   "outputs": [
    {
     "data": {
      "text/plain": [
       "-0.8352580818314677"
      ]
     },
     "execution_count": 181,
     "metadata": {},
     "output_type": "execute_result"
    }
   ],
   "source": [
    "lr.intercept_"
   ]
  },
  {
   "cell_type": "code",
   "execution_count": 182,
   "metadata": {},
   "outputs": [
    {
     "data": {
      "text/plain": [
       "[<matplotlib.lines.Line2D at 0x7f212433dc50>]"
      ]
     },
     "execution_count": 182,
     "metadata": {},
     "output_type": "execute_result"
    },
    {
     "data": {
      "image/png": "[encoded data removed]",
      "text/plain": [
       "<Figure size 432x288 with 1 Axes>"
      ]
     },
     "metadata": {
      "needs_background": "light"
     },
     "output_type": "display_data"
    }
   ],
   "source": [
    "plt.scatter(x_train, y_train)\n",
    "plt.plot(x_train, lr.predict(x_train), c='red', lw=3)"
   ]
  },
  {
   "cell_type": "markdown",
   "metadata": {},
   "source": [
    "     Evalute custum model"
   ]
  },
  {
   "cell_type": "code",
   "execution_count": 185,
   "metadata": {},
   "outputs": [
    {
     "name": "stdout",
     "output_type": "stream",
     "text": [
      "MAE :  7.877842240242018\n",
      "RMSE :  10.042785587416502\n",
      "Median absolute error :  6.54594841083626\n"
     ]
    }
   ],
   "source": [
    "from sklearn.metrics import mean_squared_error, mean_absolute_error, median_absolute_error\n",
    "print('MAE : ', mean_absolute_error(y_test, lr.predict(x_test)))\n",
    "print('RMSE : ', np.sqrt(mean_squared_error(y_test, lr.predict(x_test))))\n",
    "print('Median absolute error : ', median_absolute_error(y_test, lr.predict(x_test)))"
   ]
  },
  {
   "cell_type": "code",
   "execution_count": 223,
   "metadata": {},
   "outputs": [
    {
     "name": "stdout",
     "output_type": "stream",
     "text": [
      "Score Custum model :  0.7612679859914026\n"
     ]
    }
   ],
   "source": [
    "print('Score Custum model : ', lr.score(x_test, y_test))"
   ]
  },
  {
   "cell_type": "markdown",
   "metadata": {},
   "source": [
    "## Comparaison avec Sklearn"
   ]
  },
  {
   "cell_type": "code",
   "execution_count": 189,
   "metadata": {},
   "outputs": [],
   "source": [
    "from sklearn.linear_model import LinearRegression"
   ]
  },
  {
   "cell_type": "code",
   "execution_count": 190,
   "metadata": {},
   "outputs": [],
   "source": [
    "lr2 = LinearRegression()"
   ]
  },
  {
   "cell_type": "code",
   "execution_count": 191,
   "metadata": {},
   "outputs": [
    {
     "data": {
      "text/plain": [
       "LinearRegression(copy_X=True, fit_intercept=True, n_jobs=None, normalize=False)"
      ]
     },
     "execution_count": 191,
     "metadata": {},
     "output_type": "execute_result"
    }
   ],
   "source": [
    "lr2.fit(x_train,y_train)"
   ]
  },
  {
   "cell_type": "code",
   "execution_count": 192,
   "metadata": {},
   "outputs": [
    {
     "data": {
      "text/plain": [
       "array([21.12867091])"
      ]
     },
     "execution_count": 192,
     "metadata": {},
     "output_type": "execute_result"
    }
   ],
   "source": [
    "lr2.coef_"
   ]
  },
  {
   "cell_type": "code",
   "execution_count": 193,
   "metadata": {},
   "outputs": [
    {
     "data": {
      "text/plain": [
       "-0.8328942101095778"
      ]
     },
     "execution_count": 193,
     "metadata": {},
     "output_type": "execute_result"
    }
   ],
   "source": [
    "lr2.intercept_"
   ]
  },
  {
   "cell_type": "code",
   "execution_count": 194,
   "metadata": {},
   "outputs": [
    {
     "data": {
      "text/plain": [
       "Text(0.5,1,'LinearRegression model')"
      ]
     },
     "execution_count": 194,
     "metadata": {},
     "output_type": "execute_result"
    },
    {
     "data": {
      "image/png": "[encoded data removed]",
      "text/plain": [
       "<Figure size 432x288 with 1 Axes>"
      ]
     },
     "metadata": {
      "needs_background": "light"
     },
     "output_type": "display_data"
    }
   ],
   "source": [
    "plt.scatter(x_train,y_train)\n",
    "plt.plot(x_train, lr2.predict(x_train), c='red', lw=3)\n",
    "plt.title('LinearRegression model')"
   ]
  },
  {
   "cell_type": "markdown",
   "metadata": {},
   "source": [
    "    Evaluate Linear regression sklearn"
   ]
  },
  {
   "cell_type": "code",
   "execution_count": 195,
   "metadata": {},
   "outputs": [
    {
     "name": "stdout",
     "output_type": "stream",
     "text": [
      "MAE :  7.878092566619603\n",
      "RMSE :  10.043458219943728\n",
      "Median absolute error :  6.544939758863786\n"
     ]
    }
   ],
   "source": [
    "print('MAE : ', mean_absolute_error(y_test, lr2.predict(x_test)))\n",
    "print('RMSE : ', np.sqrt(mean_squared_error(y_test, lr2.predict(x_test))))\n",
    "print('Median absolute error : ', median_absolute_error(y_test, lr2.predict(x_test)))"
   ]
  },
  {
   "cell_type": "code",
   "execution_count": 224,
   "metadata": {},
   "outputs": [
    {
     "name": "stdout",
     "output_type": "stream",
     "text": [
      "Score sklearn model :  0.7612360059607552\n"
     ]
    }
   ],
   "source": [
    "print('Score sklearn model : ', lr2.score(x_test, y_test))"
   ]
  },
  {
   "cell_type": "markdown",
   "metadata": {},
   "source": [
    "## Multiple Linear regression"
   ]
  },
  {
   "cell_type": "code",
   "execution_count": 197,
   "metadata": {},
   "outputs": [],
   "source": [
    "np.random.seed(0)\n",
    "x1, y1 = make_regression(n_samples=1280, n_features=3, noise=10)"
   ]
  },
  {
   "cell_type": "code",
   "execution_count": 198,
   "metadata": {},
   "outputs": [],
   "source": [
    "x1_train, x1_test, y1_train, y1_test = train_test_split(x1, y1, test_size=0.2)"
   ]
  },
  {
   "cell_type": "code",
   "execution_count": 199,
   "metadata": {},
   "outputs": [
    {
     "data": {
      "text/plain": [
       "(1024, 3)"
      ]
     },
     "execution_count": 199,
     "metadata": {},
     "output_type": "execute_result"
    }
   ],
   "source": [
    "x1_train.shape"
   ]
  },
  {
   "cell_type": "code",
   "execution_count": 200,
   "metadata": {},
   "outputs": [
    {
     "data": {
      "text/plain": [
       "(1024,)"
      ]
     },
     "execution_count": 200,
     "metadata": {},
     "output_type": "execute_result"
    }
   ],
   "source": [
    "y1_train.shape"
   ]
  },
  {
   "cell_type": "code",
   "execution_count": 201,
   "metadata": {},
   "outputs": [],
   "source": [
    "lr3 = RegressionLinearCustom(learning_rate=0.01)"
   ]
  },
  {
   "cell_type": "code",
   "execution_count": 202,
   "metadata": {},
   "outputs": [
    {
     "name": "stdout",
     "output_type": "stream",
     "text": [
      "RegressionLinear(learning_rate=0.01, max_iter=1000)\n"
     ]
    }
   ],
   "source": [
    "lr3.fit(x1_train, y1_train)"
   ]
  },
  {
   "cell_type": "code",
   "execution_count": 203,
   "metadata": {},
   "outputs": [
    {
     "data": {
      "text/plain": [
       "array([64.59675767, 62.55187783, 60.5581771 ])"
      ]
     },
     "execution_count": 203,
     "metadata": {},
     "output_type": "execute_result"
    }
   ],
   "source": [
    "lr3.coefs_"
   ]
  },
  {
   "cell_type": "code",
   "execution_count": 204,
   "metadata": {},
   "outputs": [
    {
     "data": {
      "text/plain": [
       "-3.8782243776243024"
      ]
     },
     "execution_count": 204,
     "metadata": {},
     "output_type": "execute_result"
    }
   ],
   "source": [
    "lr3.intercept_"
   ]
  },
  {
   "cell_type": "markdown",
   "metadata": {},
   "source": [
    "    - Evaluate LinearRegressionCustum for multiple Regression"
   ]
  },
  {
   "cell_type": "code",
   "execution_count": 205,
   "metadata": {},
   "outputs": [
    {
     "name": "stdout",
     "output_type": "stream",
     "text": [
      "MAE :  9.187022392401918\n",
      "RMSE :  11.324822688558232\n",
      "Median absolute error :  7.700921217861264\n"
     ]
    }
   ],
   "source": [
    "print('MAE : ', mean_absolute_error(y1_test, lr3.predict(x1_test)))\n",
    "print('RMSE : ', np.sqrt(mean_squared_error(y1_test, lr3.predict(x1_test))))\n",
    "print('Median absolute error : ', median_absolute_error(y1_test, lr3.predict(x1_test)))"
   ]
  },
  {
   "cell_type": "code",
   "execution_count": 225,
   "metadata": {},
   "outputs": [
    {
     "name": "stdout",
     "output_type": "stream",
     "text": [
      "Score Custum model multiple regression :  0.9901428799842829\n"
     ]
    }
   ],
   "source": [
    "print('Score Custum model multiple regression : ', lr3.score(x1_test, y1_test))"
   ]
  },
  {
   "cell_type": "markdown",
   "metadata": {},
   "source": [
    "## Sklearn"
   ]
  },
  {
   "cell_type": "code",
   "execution_count": 207,
   "metadata": {},
   "outputs": [],
   "source": [
    "from sklearn.linear_model import SGDRegressor\n",
    "sg = SGDRegressor()"
   ]
  },
  {
   "cell_type": "code",
   "execution_count": 208,
   "metadata": {},
   "outputs": [],
   "source": [
    "lrr3 = LinearRegression()"
   ]
  },
  {
   "cell_type": "code",
   "execution_count": 209,
   "metadata": {},
   "outputs": [
    {
     "data": {
      "text/plain": [
       "LinearRegression(copy_X=True, fit_intercept=True, n_jobs=None, normalize=False)"
      ]
     },
     "execution_count": 209,
     "metadata": {},
     "output_type": "execute_result"
    }
   ],
   "source": [
    "lrr3.fit(x1_train, y1_train)"
   ]
  },
  {
   "cell_type": "code",
   "execution_count": 210,
   "metadata": {},
   "outputs": [
    {
     "data": {
      "text/plain": [
       "SGDRegressor(alpha=0.0001, average=False, early_stopping=False, epsilon=0.1,\n",
       "             eta0=0.01, fit_intercept=True, l1_ratio=0.15,\n",
       "             learning_rate='invscaling', loss='squared_loss', max_iter=1000,\n",
       "             n_iter_no_change=5, penalty='l2', power_t=0.25, random_state=None,\n",
       "             shuffle=True, tol=0.001, validation_fraction=0.1, verbose=0,\n",
       "             warm_start=False)"
      ]
     },
     "execution_count": 210,
     "metadata": {},
     "output_type": "execute_result"
    }
   ],
   "source": [
    "sg.fit(x1_train, y1_train)"
   ]
  },
  {
   "cell_type": "code",
   "execution_count": 211,
   "metadata": {},
   "outputs": [
    {
     "data": {
      "text/plain": [
       "array([66.6285208 , 64.15098078, 63.81493204])"
      ]
     },
     "execution_count": 211,
     "metadata": {},
     "output_type": "execute_result"
    }
   ],
   "source": [
    "lrr3.coef_"
   ]
  },
  {
   "cell_type": "code",
   "execution_count": 212,
   "metadata": {},
   "outputs": [
    {
     "data": {
      "text/plain": [
       "array([66.60881996, 64.15799953, 63.74762287])"
      ]
     },
     "execution_count": 212,
     "metadata": {},
     "output_type": "execute_result"
    }
   ],
   "source": [
    "sg.coef_"
   ]
  },
  {
   "cell_type": "code",
   "execution_count": 213,
   "metadata": {},
   "outputs": [
    {
     "data": {
      "text/plain": [
       "0.4128450631445766"
      ]
     },
     "execution_count": 213,
     "metadata": {},
     "output_type": "execute_result"
    }
   ],
   "source": [
    "lrr3.intercept_"
   ]
  },
  {
   "cell_type": "code",
   "execution_count": 214,
   "metadata": {},
   "outputs": [
    {
     "data": {
      "text/plain": [
       "array([0.44550697])"
      ]
     },
     "execution_count": 214,
     "metadata": {},
     "output_type": "execute_result"
    }
   ],
   "source": [
    "sg.intercept_"
   ]
  },
  {
   "cell_type": "markdown",
   "metadata": {},
   "source": [
    "    - Evaluate LinearRegression"
   ]
  },
  {
   "cell_type": "code",
   "execution_count": 216,
   "metadata": {},
   "outputs": [
    {
     "name": "stdout",
     "output_type": "stream",
     "text": [
      "MAE :  7.9704692752093855\n",
      "RMSE :  9.851604662213807\n",
      "Median absolute error :  6.889328330159444\n"
     ]
    }
   ],
   "source": [
    "print('MAE : ', mean_absolute_error(y1_test, lrr3.predict(x1_test)))\n",
    "print('RMSE : ', np.sqrt(mean_squared_error(y1_test, lrr3.predict(x1_test))))\n",
    "print('Median absolute error : ', median_absolute_error(y1_test, lrr3.predict(x1_test)))"
   ]
  },
  {
   "cell_type": "code",
   "execution_count": 226,
   "metadata": {},
   "outputs": [
    {
     "name": "stdout",
     "output_type": "stream",
     "text": [
      "Score sklearn model LinearRegression :  0.9925406467656483\n"
     ]
    }
   ],
   "source": [
    "print('Score sklearn model LinearRegression : ', lrr3.score(x1_test, y1_test))"
   ]
  },
  {
   "cell_type": "markdown",
   "metadata": {},
   "source": [
    "    - Evaluate SGDRegressor"
   ]
  },
  {
   "cell_type": "code",
   "execution_count": 219,
   "metadata": {},
   "outputs": [
    {
     "name": "stdout",
     "output_type": "stream",
     "text": [
      "MAE :  7.972534909526331\n",
      "RMSE :  9.855358962547134\n",
      "Median absolute error :  6.859896458867109\n"
     ]
    }
   ],
   "source": [
    "print('MAE : ', mean_absolute_error(y1_test, sg.predict(x1_test)))\n",
    "print('RMSE : ', np.sqrt(mean_squared_error(y1_test, sg.predict(x1_test))))\n",
    "print('Median absolute error : ', median_absolute_error(y1_test, sg.predict(x1_test)))"
   ]
  },
  {
   "cell_type": "code",
   "execution_count": 227,
   "metadata": {},
   "outputs": [
    {
     "name": "stdout",
     "output_type": "stream",
     "text": [
      "Score sklearn SGDRegressor :  0.992534960384724\n"
     ]
    }
   ],
   "source": [
    "print('Score sklearn SGDRegressor : ', sg.score(x1_test, y1_test))"
   ]
  },
  {
   "cell_type": "markdown",
   "metadata": {},
   "source": [
    "# Piste d'amelioration"
   ]
  },
  {
   "cell_type": "markdown",
   "metadata": {},
   "source": [
    "    - Ameliorer ce model pour prendre en compte la regression non-linear (avec l'algorithme de regression stockat).\n",
    "    - Jouer sur le learning rate ou le max_inter lorsque le model under-fit.\n",
    "    - Ajouter un peu plus de performance sur modele, notament permettre de normalizer les donnes avant de faire le fit.\n"
   ]
  }
 ],
 "metadata": {
  "kernelspec": {
   "display_name": "Python 3",
   "language": "python",
   "name": "python3"
  },
  "language_info": {
   "codemirror_mode": {
    "name": "ipython",
    "version": 3
   },
   "file_extension": ".py",
   "mimetype": "text/x-python",
   "name": "python",
   "nbconvert_exporter": "python",
   "pygments_lexer": "ipython3",
   "version": "3.7.0"
  }
 },
 "nbformat": 4,
 "nbformat_minor": 2
}
