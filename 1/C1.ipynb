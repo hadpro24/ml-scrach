{
 "cells": [
  {
   "cell_type": "markdown",
   "metadata": {},
   "source": [
    "# Import tools"
   ]
  },
  {
   "cell_type": "code",
   "execution_count": null,
   "metadata": {},
   "outputs": [],
   "source": [
    "import pandas as pd\n",
    "import numpy as np\n",
    "import matplotlib.pyplot as plt"
   ]
  },
  {
   "cell_type": "markdown",
   "metadata": {},
   "source": [
    "# Lood data"
   ]
  },
  {
   "cell_type": "code",
   "execution_count": 187,
   "metadata": {},
   "outputs": [],
   "source": [
    "df = pd.read_csv('train.csv')"
   ]
  },
  {
   "cell_type": "code",
   "execution_count": 237,
   "metadata": {},
   "outputs": [],
   "source": [
    "df_test = pd.read_csv('test.csv')"
   ]
  },
  {
   "cell_type": "markdown",
   "metadata": {},
   "source": [
    "# EDX"
   ]
  },
  {
   "cell_type": "code",
   "execution_count": 188,
   "metadata": {},
   "outputs": [
    {
     "data": {
      "text/plain": [
       "(1143, 75)"
      ]
     },
     "execution_count": 188,
     "metadata": {},
     "output_type": "execute_result"
    }
   ],
   "source": [
    "df.shape"
   ]
  },
  {
   "cell_type": "code",
   "execution_count": 238,
   "metadata": {},
   "outputs": [
    {
     "data": {
      "text/plain": [
       "(286, 75)"
      ]
     },
     "execution_count": 238,
     "metadata": {},
     "output_type": "execute_result"
    }
   ],
   "source": [
    "df_test.shape"
   ]
  },
  {
   "cell_type": "code",
   "execution_count": 189,
   "metadata": {},
   "outputs": [
    {
     "data": {
      "text/html": [
       "<div>\n",
       "<style scoped>\n",
       "    .dataframe tbody tr th:only-of-type {\n",
       "        vertical-align: middle;\n",
       "    }\n",
       "\n",
       "    .dataframe tbody tr th {\n",
       "        vertical-align: top;\n",
       "    }\n",
       "\n",
       "    .dataframe thead th {\n",
       "        text-align: right;\n",
       "    }\n",
       "</style>\n",
       "<table border=\"1\" class=\"dataframe\">\n",
       "  <thead>\n",
       "    <tr style=\"text-align: right;\">\n",
       "      <th></th>\n",
       "      <th>surveyid</th>\n",
       "      <th>village</th>\n",
       "      <th>survey_date</th>\n",
       "      <th>femaleres</th>\n",
       "      <th>age</th>\n",
       "      <th>married</th>\n",
       "      <th>children</th>\n",
       "      <th>hhsize</th>\n",
       "      <th>edu</th>\n",
       "      <th>hh_children</th>\n",
       "      <th>...</th>\n",
       "      <th>given_mpesa</th>\n",
       "      <th>amount_given_mpesa</th>\n",
       "      <th>received_mpesa</th>\n",
       "      <th>amount_received_mpesa</th>\n",
       "      <th>net_mpesa</th>\n",
       "      <th>saved_mpesa</th>\n",
       "      <th>amount_saved_mpesa</th>\n",
       "      <th>early_survey</th>\n",
       "      <th>depressed</th>\n",
       "      <th>day_of_week</th>\n",
       "    </tr>\n",
       "  </thead>\n",
       "  <tbody>\n",
       "    <tr>\n",
       "      <th>0</th>\n",
       "      <td>926</td>\n",
       "      <td>91</td>\n",
       "      <td>23-Nov-61</td>\n",
       "      <td>1</td>\n",
       "      <td>28.0</td>\n",
       "      <td>1</td>\n",
       "      <td>4</td>\n",
       "      <td>6</td>\n",
       "      <td>10</td>\n",
       "      <td>0</td>\n",
       "      <td>...</td>\n",
       "      <td>0</td>\n",
       "      <td>0.0</td>\n",
       "      <td>0</td>\n",
       "      <td>0.000000</td>\n",
       "      <td>0.000000</td>\n",
       "      <td>1</td>\n",
       "      <td>0.000000</td>\n",
       "      <td>0</td>\n",
       "      <td>0</td>\n",
       "      <td>5</td>\n",
       "    </tr>\n",
       "    <tr>\n",
       "      <th>1</th>\n",
       "      <td>747</td>\n",
       "      <td>57</td>\n",
       "      <td>24-Oct-61</td>\n",
       "      <td>1</td>\n",
       "      <td>23.0</td>\n",
       "      <td>1</td>\n",
       "      <td>3</td>\n",
       "      <td>5</td>\n",
       "      <td>8</td>\n",
       "      <td>0</td>\n",
       "      <td>...</td>\n",
       "      <td>0</td>\n",
       "      <td>0.0</td>\n",
       "      <td>1</td>\n",
       "      <td>4.804611</td>\n",
       "      <td>4.804611</td>\n",
       "      <td>0</td>\n",
       "      <td>0.000000</td>\n",
       "      <td>0</td>\n",
       "      <td>1</td>\n",
       "      <td>3</td>\n",
       "    </tr>\n",
       "    <tr>\n",
       "      <th>2</th>\n",
       "      <td>1190</td>\n",
       "      <td>115</td>\n",
       "      <td>05-Oct-61</td>\n",
       "      <td>1</td>\n",
       "      <td>22.0</td>\n",
       "      <td>1</td>\n",
       "      <td>3</td>\n",
       "      <td>5</td>\n",
       "      <td>9</td>\n",
       "      <td>0</td>\n",
       "      <td>...</td>\n",
       "      <td>0</td>\n",
       "      <td>0.0</td>\n",
       "      <td>0</td>\n",
       "      <td>8.007685</td>\n",
       "      <td>8.007685</td>\n",
       "      <td>1</td>\n",
       "      <td>0.000000</td>\n",
       "      <td>0</td>\n",
       "      <td>0</td>\n",
       "      <td>5</td>\n",
       "    </tr>\n",
       "    <tr>\n",
       "      <th>3</th>\n",
       "      <td>1065</td>\n",
       "      <td>97</td>\n",
       "      <td>23-Sep-61</td>\n",
       "      <td>1</td>\n",
       "      <td>27.0</td>\n",
       "      <td>1</td>\n",
       "      <td>2</td>\n",
       "      <td>4</td>\n",
       "      <td>10</td>\n",
       "      <td>2</td>\n",
       "      <td>...</td>\n",
       "      <td>0</td>\n",
       "      <td>0.0</td>\n",
       "      <td>0</td>\n",
       "      <td>0.000000</td>\n",
       "      <td>0.000000</td>\n",
       "      <td>1</td>\n",
       "      <td>1.249199</td>\n",
       "      <td>0</td>\n",
       "      <td>0</td>\n",
       "      <td>0</td>\n",
       "    </tr>\n",
       "    <tr>\n",
       "      <th>4</th>\n",
       "      <td>806</td>\n",
       "      <td>42</td>\n",
       "      <td>12-Sep-61</td>\n",
       "      <td>0</td>\n",
       "      <td>59.0</td>\n",
       "      <td>0</td>\n",
       "      <td>4</td>\n",
       "      <td>6</td>\n",
       "      <td>10</td>\n",
       "      <td>4</td>\n",
       "      <td>...</td>\n",
       "      <td>0</td>\n",
       "      <td>0.0</td>\n",
       "      <td>0</td>\n",
       "      <td>0.000000</td>\n",
       "      <td>0.000000</td>\n",
       "      <td>0</td>\n",
       "      <td>0.000000</td>\n",
       "      <td>0</td>\n",
       "      <td>0</td>\n",
       "      <td>3</td>\n",
       "    </tr>\n",
       "  </tbody>\n",
       "</table>\n",
       "<p>5 rows × 75 columns</p>\n",
       "</div>"
      ],
      "text/plain": [
       "   surveyid  village survey_date  femaleres   age  married  children  hhsize  \\\n",
       "0       926       91   23-Nov-61          1  28.0        1         4       6   \n",
       "1       747       57   24-Oct-61          1  23.0        1         3       5   \n",
       "2      1190      115   05-Oct-61          1  22.0        1         3       5   \n",
       "3      1065       97   23-Sep-61          1  27.0        1         2       4   \n",
       "4       806       42   12-Sep-61          0  59.0        0         4       6   \n",
       "\n",
       "   edu  hh_children  ...  given_mpesa  amount_given_mpesa  received_mpesa  \\\n",
       "0   10            0  ...            0                 0.0               0   \n",
       "1    8            0  ...            0                 0.0               1   \n",
       "2    9            0  ...            0                 0.0               0   \n",
       "3   10            2  ...            0                 0.0               0   \n",
       "4   10            4  ...            0                 0.0               0   \n",
       "\n",
       "   amount_received_mpesa  net_mpesa  saved_mpesa  amount_saved_mpesa  \\\n",
       "0               0.000000   0.000000            1            0.000000   \n",
       "1               4.804611   4.804611            0            0.000000   \n",
       "2               8.007685   8.007685            1            0.000000   \n",
       "3               0.000000   0.000000            1            1.249199   \n",
       "4               0.000000   0.000000            0            0.000000   \n",
       "\n",
       "   early_survey  depressed  day_of_week  \n",
       "0             0          0            5  \n",
       "1             0          1            3  \n",
       "2             0          0            5  \n",
       "3             0          0            0  \n",
       "4             0          0            3  \n",
       "\n",
       "[5 rows x 75 columns]"
      ]
     },
     "execution_count": 189,
     "metadata": {},
     "output_type": "execute_result"
    }
   ],
   "source": [
    "df.head()"
   ]
  },
  {
   "cell_type": "code",
   "execution_count": 239,
   "metadata": {},
   "outputs": [
    {
     "data": {
      "text/html": [
       "<div>\n",
       "<style scoped>\n",
       "    .dataframe tbody tr th:only-of-type {\n",
       "        vertical-align: middle;\n",
       "    }\n",
       "\n",
       "    .dataframe tbody tr th {\n",
       "        vertical-align: top;\n",
       "    }\n",
       "\n",
       "    .dataframe thead th {\n",
       "        text-align: right;\n",
       "    }\n",
       "</style>\n",
       "<table border=\"1\" class=\"dataframe\">\n",
       "  <thead>\n",
       "    <tr style=\"text-align: right;\">\n",
       "      <th></th>\n",
       "      <th>surveyid</th>\n",
       "      <th>village</th>\n",
       "      <th>survey_date</th>\n",
       "      <th>femaleres</th>\n",
       "      <th>age</th>\n",
       "      <th>married</th>\n",
       "      <th>children</th>\n",
       "      <th>hhsize</th>\n",
       "      <th>edu</th>\n",
       "      <th>hh_children</th>\n",
       "      <th>...</th>\n",
       "      <th>given_mpesa</th>\n",
       "      <th>amount_given_mpesa</th>\n",
       "      <th>received_mpesa</th>\n",
       "      <th>amount_received_mpesa</th>\n",
       "      <th>net_mpesa</th>\n",
       "      <th>saved_mpesa</th>\n",
       "      <th>amount_saved_mpesa</th>\n",
       "      <th>early_survey</th>\n",
       "      <th>depressed</th>\n",
       "      <th>day_of_week</th>\n",
       "    </tr>\n",
       "  </thead>\n",
       "  <tbody>\n",
       "    <tr>\n",
       "      <th>0</th>\n",
       "      <td>901</td>\n",
       "      <td>181</td>\n",
       "      <td>14-Nov-61</td>\n",
       "      <td>1</td>\n",
       "      <td>21</td>\n",
       "      <td>0</td>\n",
       "      <td>3</td>\n",
       "      <td>4</td>\n",
       "      <td>10</td>\n",
       "      <td>3</td>\n",
       "      <td>...</td>\n",
       "      <td>0</td>\n",
       "      <td>0.0</td>\n",
       "      <td>0</td>\n",
       "      <td>0.0</td>\n",
       "      <td>0.0</td>\n",
       "      <td>1</td>\n",
       "      <td>0.000000</td>\n",
       "      <td>0</td>\n",
       "      <td>0.0</td>\n",
       "      <td>3</td>\n",
       "    </tr>\n",
       "    <tr>\n",
       "      <th>1</th>\n",
       "      <td>498</td>\n",
       "      <td>47</td>\n",
       "      <td>18-Sep-61</td>\n",
       "      <td>1</td>\n",
       "      <td>44</td>\n",
       "      <td>1</td>\n",
       "      <td>6</td>\n",
       "      <td>8</td>\n",
       "      <td>6</td>\n",
       "      <td>6</td>\n",
       "      <td>...</td>\n",
       "      <td>0</td>\n",
       "      <td>0.0</td>\n",
       "      <td>0</td>\n",
       "      <td>0.0</td>\n",
       "      <td>0.0</td>\n",
       "      <td>0</td>\n",
       "      <td>0.000000</td>\n",
       "      <td>0</td>\n",
       "      <td>0.0</td>\n",
       "      <td>2</td>\n",
       "    </tr>\n",
       "    <tr>\n",
       "      <th>2</th>\n",
       "      <td>710</td>\n",
       "      <td>8</td>\n",
       "      <td>03-Sep-61</td>\n",
       "      <td>1</td>\n",
       "      <td>23</td>\n",
       "      <td>1</td>\n",
       "      <td>1</td>\n",
       "      <td>3</td>\n",
       "      <td>7</td>\n",
       "      <td>1</td>\n",
       "      <td>...</td>\n",
       "      <td>0</td>\n",
       "      <td>0.0</td>\n",
       "      <td>0</td>\n",
       "      <td>0.0</td>\n",
       "      <td>0.0</td>\n",
       "      <td>1</td>\n",
       "      <td>0.080077</td>\n",
       "      <td>0</td>\n",
       "      <td>0.0</td>\n",
       "      <td>1</td>\n",
       "    </tr>\n",
       "    <tr>\n",
       "      <th>3</th>\n",
       "      <td>433</td>\n",
       "      <td>25</td>\n",
       "      <td>01-Nov-60</td>\n",
       "      <td>1</td>\n",
       "      <td>67</td>\n",
       "      <td>0</td>\n",
       "      <td>0</td>\n",
       "      <td>1</td>\n",
       "      <td>1</td>\n",
       "      <td>0</td>\n",
       "      <td>...</td>\n",
       "      <td>0</td>\n",
       "      <td>0.0</td>\n",
       "      <td>0</td>\n",
       "      <td>0.0</td>\n",
       "      <td>0.0</td>\n",
       "      <td>0</td>\n",
       "      <td>0.000000</td>\n",
       "      <td>1</td>\n",
       "      <td>1.0</td>\n",
       "      <td>3</td>\n",
       "    </tr>\n",
       "    <tr>\n",
       "      <th>4</th>\n",
       "      <td>44</td>\n",
       "      <td>2</td>\n",
       "      <td>18-May-60</td>\n",
       "      <td>1</td>\n",
       "      <td>40</td>\n",
       "      <td>1</td>\n",
       "      <td>4</td>\n",
       "      <td>6</td>\n",
       "      <td>7</td>\n",
       "      <td>4</td>\n",
       "      <td>...</td>\n",
       "      <td>0</td>\n",
       "      <td>0.0</td>\n",
       "      <td>0</td>\n",
       "      <td>0.0</td>\n",
       "      <td>0.0</td>\n",
       "      <td>0</td>\n",
       "      <td>0.000000</td>\n",
       "      <td>1</td>\n",
       "      <td>NaN</td>\n",
       "      <td>4</td>\n",
       "    </tr>\n",
       "  </tbody>\n",
       "</table>\n",
       "<p>5 rows × 75 columns</p>\n",
       "</div>"
      ],
      "text/plain": [
       "   surveyid  village survey_date  femaleres age  married  children  hhsize  \\\n",
       "0       901      181   14-Nov-61          1  21        0         3       4   \n",
       "1       498       47   18-Sep-61          1  44        1         6       8   \n",
       "2       710        8   03-Sep-61          1  23        1         1       3   \n",
       "3       433       25   01-Nov-60          1  67        0         0       1   \n",
       "4        44        2   18-May-60          1  40        1         4       6   \n",
       "\n",
       "   edu  hh_children  ...  given_mpesa  amount_given_mpesa  received_mpesa  \\\n",
       "0   10            3  ...            0                 0.0               0   \n",
       "1    6            6  ...            0                 0.0               0   \n",
       "2    7            1  ...            0                 0.0               0   \n",
       "3    1            0  ...            0                 0.0               0   \n",
       "4    7            4  ...            0                 0.0               0   \n",
       "\n",
       "   amount_received_mpesa  net_mpesa  saved_mpesa  amount_saved_mpesa  \\\n",
       "0                    0.0        0.0            1            0.000000   \n",
       "1                    0.0        0.0            0            0.000000   \n",
       "2                    0.0        0.0            1            0.080077   \n",
       "3                    0.0        0.0            0            0.000000   \n",
       "4                    0.0        0.0            0            0.000000   \n",
       "\n",
       "   early_survey  depressed  day_of_week  \n",
       "0             0        0.0            3  \n",
       "1             0        0.0            2  \n",
       "2             0        0.0            1  \n",
       "3             1        1.0            3  \n",
       "4             1        NaN            4  \n",
       "\n",
       "[5 rows x 75 columns]"
      ]
     },
     "execution_count": 239,
     "metadata": {},
     "output_type": "execute_result"
    }
   ],
   "source": [
    "df_test.head()"
   ]
  },
  {
   "cell_type": "code",
   "execution_count": 190,
   "metadata": {},
   "outputs": [
    {
     "data": {
      "text/plain": [
       "0"
      ]
     },
     "execution_count": 190,
     "metadata": {},
     "output_type": "execute_result"
    }
   ],
   "source": [
    "df.duplicated().sum()"
   ]
  },
  {
   "cell_type": "code",
   "execution_count": 191,
   "metadata": {},
   "outputs": [
    {
     "data": {
      "text/plain": [
       "surveyid                     0\n",
       "village                      0\n",
       "survey_date                  0\n",
       "femaleres                    0\n",
       "age                          0\n",
       "married                      0\n",
       "children                     0\n",
       "hhsize                       0\n",
       "edu                          0\n",
       "hh_children                  0\n",
       "hh_totalmembers            334\n",
       "cons_nondurable              0\n",
       "asset_livestock              0\n",
       "asset_durable                0\n",
       "asset_phone                  0\n",
       "asset_savings                0\n",
       "asset_land_owned_total       0\n",
       "asset_niceroof               0\n",
       "cons_allfood                 0\n",
       "cons_ownfood                 0\n",
       "cons_alcohol                43\n",
       "cons_tobacco                20\n",
       "cons_med_total               0\n",
       "cons_ed                      0\n",
       "cons_social                  0\n",
       "cons_other                   0\n",
       "ent_wagelabor                0\n",
       "ent_ownfarm                  0\n",
       "ent_business                 0\n",
       "ent_nonagbusiness            0\n",
       "ent_employees                0\n",
       "ent_nonag_revenue            0\n",
       "ent_nonag_flowcost           0\n",
       "ent_farmrevenue              0\n",
       "ent_farmexpenses             0\n",
       "ent_animalstockrev           0\n",
       "ent_total_cost               0\n",
       "fs_adskipm_often             0\n",
       "fs_adwholed_often            0\n",
       "fs_meat                    334\n",
       "fs_enoughtom               334\n",
       "fs_sleephun                334\n",
       "med_portion_sickinjured    334\n",
       "med_sickdays_hhave         334\n",
       "med_vacc_newborns            0\n",
       "med_child_check              0\n",
       "labor_primary                0\n",
       "wage_expenditures            0\n",
       "durable_investment           0\n",
       "nondurable_investment        0\n",
       "given_mpesa                  0\n",
       "amount_given_mpesa           0\n",
       "received_mpesa               0\n",
       "amount_received_mpesa        0\n",
       "net_mpesa                    0\n",
       "saved_mpesa                  0\n",
       "amount_saved_mpesa           0\n",
       "early_survey                 0\n",
       "depressed                    0\n",
       "day_of_week                  0\n",
       "dtype: int64"
      ]
     },
     "execution_count": 191,
     "metadata": {},
     "output_type": "execute_result"
    }
   ],
   "source": [
    "df.isnull().sum()[df.isnull().sum() < 400]"
   ]
  },
  {
   "cell_type": "code",
   "execution_count": 192,
   "metadata": {},
   "outputs": [],
   "source": [
    "# To delete "
   ]
  },
  {
   "cell_type": "code",
   "execution_count": 193,
   "metadata": {},
   "outputs": [
    {
     "data": {
      "text/plain": [
       "cons_med_children         419\n",
       "fs_chskipm_often          416\n",
       "fs_chwholed_often         416\n",
       "med_expenses_hh_ep        693\n",
       "med_expenses_sp_ep        878\n",
       "med_expenses_child_ep     600\n",
       "med_port_sick_child       416\n",
       "med_afford_port           423\n",
       "med_healthconsult         423\n",
       "med_u5_deaths            1084\n",
       "ed_expenses               463\n",
       "ed_expenses_perkid        463\n",
       "ed_schoolattend           463\n",
       "ed_sch_missedpc           467\n",
       "ed_work_act_pc            571\n",
       "dtype: int64"
      ]
     },
     "execution_count": 193,
     "metadata": {},
     "output_type": "execute_result"
    }
   ],
   "source": [
    "df.isnull().sum()[df.isnull().sum() > 400]"
   ]
  },
  {
   "cell_type": "markdown",
   "metadata": {},
   "source": [
    "## Clean data"
   ]
  },
  {
   "cell_type": "code",
   "execution_count": 194,
   "metadata": {},
   "outputs": [],
   "source": [
    "#hh_hh_totalmembers empty"
   ]
  },
  {
   "cell_type": "code",
   "execution_count": 195,
   "metadata": {},
   "outputs": [
    {
     "data": {
      "text/plain": [
       "334"
      ]
     },
     "execution_count": 195,
     "metadata": {},
     "output_type": "execute_result"
    }
   ],
   "source": [
    "df['hh_totalmembers'].isnull().sum()"
   ]
  },
  {
   "cell_type": "code",
   "execution_count": 196,
   "metadata": {},
   "outputs": [
    {
     "data": {
      "text/plain": [
       "4.0     164\n",
       "5.0     157\n",
       "6.0     114\n",
       "3.0     110\n",
       "7.0      78\n",
       "2.0      65\n",
       "8.0      44\n",
       "1.0      30\n",
       "9.0      24\n",
       "10.0     17\n",
       "12.0      4\n",
       "11.0      2\n",
       "Name: hh_totalmembers, dtype: int64"
      ]
     },
     "execution_count": 196,
     "metadata": {},
     "output_type": "execute_result"
    }
   ],
   "source": [
    "df['hh_totalmembers'].value_counts()"
   ]
  },
  {
   "cell_type": "code",
   "execution_count": 197,
   "metadata": {},
   "outputs": [
    {
     "data": {
      "text/plain": [
       "4.0"
      ]
     },
     "execution_count": 197,
     "metadata": {},
     "output_type": "execute_result"
    }
   ],
   "source": [
    "fr_hh_totalmembers = df['hh_totalmembers'].value_counts().idxmax()\n",
    "fr_hh_totalmembers"
   ]
  },
  {
   "cell_type": "code",
   "execution_count": 198,
   "metadata": {},
   "outputs": [],
   "source": [
    "df['hh_totalmembers'].replace(np.nan, fr_hh_totalmembers, inplace=True)"
   ]
  },
  {
   "cell_type": "code",
   "execution_count": 199,
   "metadata": {},
   "outputs": [
    {
     "data": {
      "text/plain": [
       "0"
      ]
     },
     "execution_count": 199,
     "metadata": {},
     "output_type": "execute_result"
    }
   ],
   "source": [
    "df['hh_totalmembers'].isnull().sum()"
   ]
  },
  {
   "cell_type": "code",
   "execution_count": 200,
   "metadata": {},
   "outputs": [],
   "source": [
    "# cons_tobacco emmpy"
   ]
  },
  {
   "cell_type": "code",
   "execution_count": 201,
   "metadata": {},
   "outputs": [
    {
     "data": {
      "text/plain": [
       "43"
      ]
     },
     "execution_count": 201,
     "metadata": {},
     "output_type": "execute_result"
    }
   ],
   "source": [
    "df['cons_alcohol'].isnull().sum()"
   ]
  },
  {
   "cell_type": "code",
   "execution_count": 202,
   "metadata": {},
   "outputs": [
    {
     "data": {
      "text/plain": [
       "1.1777172640000004"
      ]
     },
     "execution_count": 202,
     "metadata": {},
     "output_type": "execute_result"
    }
   ],
   "source": [
    "avg_cons_alcohol = df['cons_alcohol'].astype('float').mean(axis=0)\n",
    "avg_cons_alcohol"
   ]
  },
  {
   "cell_type": "code",
   "execution_count": 203,
   "metadata": {},
   "outputs": [],
   "source": [
    "df['cons_alcohol'].replace(np.nan, avg_cons_alcohol, inplace=True)"
   ]
  },
  {
   "cell_type": "code",
   "execution_count": 204,
   "metadata": {},
   "outputs": [
    {
     "data": {
      "text/plain": [
       "0"
      ]
     },
     "execution_count": 204,
     "metadata": {},
     "output_type": "execute_result"
    }
   ],
   "source": [
    "df['cons_alcohol'].isnull().sum()"
   ]
  },
  {
   "cell_type": "code",
   "execution_count": 205,
   "metadata": {},
   "outputs": [],
   "source": [
    "## cons_tobacco empty"
   ]
  },
  {
   "cell_type": "code",
   "execution_count": 206,
   "metadata": {},
   "outputs": [
    {
     "data": {
      "text/plain": [
       "20"
      ]
     },
     "execution_count": 206,
     "metadata": {},
     "output_type": "execute_result"
    }
   ],
   "source": [
    "df['cons_tobacco'].isnull().sum()"
   ]
  },
  {
   "cell_type": "code",
   "execution_count": 207,
   "metadata": {},
   "outputs": [
    {
     "data": {
      "text/plain": [
       "0.6348043586464829"
      ]
     },
     "execution_count": 207,
     "metadata": {},
     "output_type": "execute_result"
    }
   ],
   "source": [
    "avg_cons_tobacco = df['cons_tobacco'].astype('float').mean(axis=0)\n",
    "avg_cons_tobacco"
   ]
  },
  {
   "cell_type": "code",
   "execution_count": 208,
   "metadata": {},
   "outputs": [],
   "source": [
    "df['cons_tobacco'].replace(np.nan, avg_cons_tobacco, inplace=True)"
   ]
  },
  {
   "cell_type": "code",
   "execution_count": 209,
   "metadata": {},
   "outputs": [
    {
     "data": {
      "text/plain": [
       "0"
      ]
     },
     "execution_count": 209,
     "metadata": {},
     "output_type": "execute_result"
    }
   ],
   "source": [
    "df['cons_tobacco'].isnull().sum()"
   ]
  },
  {
   "cell_type": "code",
   "execution_count": 210,
   "metadata": {},
   "outputs": [],
   "source": [
    "## fs_meat"
   ]
  },
  {
   "cell_type": "code",
   "execution_count": 211,
   "metadata": {},
   "outputs": [
    {
     "data": {
      "text/plain": [
       "334"
      ]
     },
     "execution_count": 211,
     "metadata": {},
     "output_type": "execute_result"
    }
   ],
   "source": [
    "df['fs_meat'].isnull().sum()"
   ]
  },
  {
   "cell_type": "code",
   "execution_count": 212,
   "metadata": {},
   "outputs": [
    {
     "data": {
      "text/plain": [
       "2.0     193\n",
       "3.0     180\n",
       "1.0     122\n",
       "4.0      93\n",
       "7.0      69\n",
       "5.0      63\n",
       "0.0      54\n",
       "6.0      29\n",
       "22.0      2\n",
       "14.0      1\n",
       "10.0      1\n",
       "13.0      1\n",
       "11.0      1\n",
       "Name: fs_meat, dtype: int64"
      ]
     },
     "execution_count": 212,
     "metadata": {},
     "output_type": "execute_result"
    }
   ],
   "source": [
    "df['fs_meat'].value_counts()"
   ]
  },
  {
   "cell_type": "code",
   "execution_count": 213,
   "metadata": {},
   "outputs": [
    {
     "data": {
      "text/plain": [
       "2.0"
      ]
     },
     "execution_count": 213,
     "metadata": {},
     "output_type": "execute_result"
    }
   ],
   "source": [
    "fr_fs_meat = df['fs_meat'].value_counts().idxmax()\n",
    "fr_fs_meat"
   ]
  },
  {
   "cell_type": "code",
   "execution_count": 214,
   "metadata": {},
   "outputs": [],
   "source": [
    "df['fs_meat'].replace(np.nan, fr_fs_meat, inplace=True)"
   ]
  },
  {
   "cell_type": "code",
   "execution_count": 215,
   "metadata": {},
   "outputs": [
    {
     "data": {
      "text/plain": [
       "0"
      ]
     },
     "execution_count": 215,
     "metadata": {},
     "output_type": "execute_result"
    }
   ],
   "source": [
    "df['fs_meat'].isnull().sum()"
   ]
  },
  {
   "cell_type": "markdown",
   "metadata": {},
   "source": [
    "## Field -- fs_enoughtom"
   ]
  },
  {
   "cell_type": "code",
   "execution_count": 216,
   "metadata": {},
   "outputs": [
    {
     "data": {
      "text/plain": [
       "0.0    587\n",
       "1.0    222\n",
       "Name: fs_enoughtom, dtype: int64"
      ]
     },
     "execution_count": 216,
     "metadata": {},
     "output_type": "execute_result"
    }
   ],
   "source": [
    "df['fs_enoughtom'].value_counts()"
   ]
  },
  {
   "cell_type": "code",
   "execution_count": 217,
   "metadata": {},
   "outputs": [
    {
     "data": {
      "text/plain": [
       "0.0"
      ]
     },
     "execution_count": 217,
     "metadata": {},
     "output_type": "execute_result"
    }
   ],
   "source": [
    "fr_fs_enoughtom = df['fs_enoughtom'].value_counts().idxmax()\n",
    "fr_fs_enoughtom"
   ]
  },
  {
   "cell_type": "code",
   "execution_count": 218,
   "metadata": {},
   "outputs": [],
   "source": [
    "df['fs_enoughtom'].replace(np.nan, fr_fs_enoughtom, inplace=True)"
   ]
  },
  {
   "cell_type": "markdown",
   "metadata": {},
   "source": [
    "## Field -- fs_sleephun"
   ]
  },
  {
   "cell_type": "code",
   "execution_count": 219,
   "metadata": {},
   "outputs": [
    {
     "data": {
      "text/plain": [
       "0.0    512\n",
       "1.0    297\n",
       "Name: fs_sleephun, dtype: int64"
      ]
     },
     "execution_count": 219,
     "metadata": {},
     "output_type": "execute_result"
    }
   ],
   "source": [
    "df['fs_sleephun'].value_counts()"
   ]
  },
  {
   "cell_type": "code",
   "execution_count": 220,
   "metadata": {},
   "outputs": [
    {
     "data": {
      "text/plain": [
       "0.0"
      ]
     },
     "execution_count": 220,
     "metadata": {},
     "output_type": "execute_result"
    }
   ],
   "source": [
    "fr_fs_sleephun = df['fs_sleephun'].value_counts().idxmax()\n",
    "fr_fs_sleephun"
   ]
  },
  {
   "cell_type": "code",
   "execution_count": 221,
   "metadata": {},
   "outputs": [],
   "source": [
    "df['fs_sleephun'].replace(np.nan, fr_fs_sleephun, inplace=True)"
   ]
  },
  {
   "cell_type": "markdown",
   "metadata": {},
   "source": [
    "## Field med_sickdays_hhave"
   ]
  },
  {
   "cell_type": "code",
   "execution_count": 222,
   "metadata": {},
   "outputs": [
    {
     "data": {
      "text/plain": [
       "0.000000     222\n",
       "1.000000      46\n",
       "0.500000      27\n",
       "1.500000      20\n",
       "3.000000      18\n",
       "            ... \n",
       "7.333334       1\n",
       "7.600000       1\n",
       "4.600000       1\n",
       "0.222222       1\n",
       "12.666667      1\n",
       "Name: med_sickdays_hhave, Length: 146, dtype: int64"
      ]
     },
     "execution_count": 222,
     "metadata": {},
     "output_type": "execute_result"
    }
   ],
   "source": [
    "df['med_sickdays_hhave'].value_counts()"
   ]
  },
  {
   "cell_type": "code",
   "execution_count": 223,
   "metadata": {},
   "outputs": [],
   "source": [
    "avg_med_sickdays_hhave = df['med_sickdays_hhave'].astype('float').mean(axis=0)\n",
    "df['med_sickdays_hhave'].replace(np.nan, avg_med_sickdays_hhave, inplace=True)"
   ]
  },
  {
   "cell_type": "markdown",
   "metadata": {},
   "source": [
    "## FIeld -- med_portion_sickinjured"
   ]
  },
  {
   "cell_type": "code",
   "execution_count": 224,
   "metadata": {},
   "outputs": [
    {
     "data": {
      "text/plain": [
       "334"
      ]
     },
     "execution_count": 224,
     "metadata": {},
     "output_type": "execute_result"
    }
   ],
   "source": [
    "df['med_portion_sickinjured'].isnull().sum()"
   ]
  },
  {
   "cell_type": "code",
   "execution_count": 225,
   "metadata": {},
   "outputs": [],
   "source": [
    "avg_med_portion_sickinjured = df['med_portion_sickinjured'].astype('float').mean(axis=0)\n",
    "df['med_portion_sickinjured'].replace(np.nan, avg_med_portion_sickinjured, inplace=True)"
   ]
  },
  {
   "cell_type": "markdown",
   "metadata": {},
   "source": [
    "## Reloque"
   ]
  },
  {
   "cell_type": "code",
   "execution_count": 235,
   "metadata": {},
   "outputs": [
    {
     "data": {
      "text/plain": [
       "Index(['surveyid', 'village', 'survey_date', 'femaleres', 'age', 'married',\n",
       "       'children', 'hhsize', 'edu', 'hh_children', 'hh_totalmembers',\n",
       "       'cons_nondurable', 'asset_livestock', 'asset_durable', 'asset_phone',\n",
       "       'asset_savings', 'asset_land_owned_total', 'asset_niceroof',\n",
       "       'cons_allfood', 'cons_ownfood', 'cons_alcohol', 'cons_tobacco',\n",
       "       'cons_med_total', 'cons_ed', 'cons_social', 'cons_other',\n",
       "       'ent_wagelabor', 'ent_ownfarm', 'ent_business', 'ent_nonagbusiness',\n",
       "       'ent_employees', 'ent_nonag_revenue', 'ent_nonag_flowcost',\n",
       "       'ent_farmrevenue', 'ent_farmexpenses', 'ent_animalstockrev',\n",
       "       'ent_total_cost', 'fs_adskipm_often', 'fs_adwholed_often', 'fs_meat',\n",
       "       'fs_enoughtom', 'fs_sleephun', 'med_portion_sickinjured',\n",
       "       'med_sickdays_hhave', 'med_vacc_newborns', 'med_child_check',\n",
       "       'labor_primary', 'wage_expenditures', 'durable_investment',\n",
       "       'nondurable_investment', 'given_mpesa', 'amount_given_mpesa',\n",
       "       'received_mpesa', 'amount_received_mpesa', 'net_mpesa', 'saved_mpesa',\n",
       "       'amount_saved_mpesa', 'early_survey', 'depressed', 'day_of_week'],\n",
       "      dtype='object')"
      ]
     },
     "execution_count": 235,
     "metadata": {},
     "output_type": "execute_result"
    }
   ],
   "source": [
    "features = df.isnull().sum()[df.isnull().sum() < 400].index\n",
    "features"
   ]
  },
  {
   "cell_type": "code",
   "execution_count": 236,
   "metadata": {},
   "outputs": [
    {
     "data": {
      "text/html": [
       "<div>\n",
       "<style scoped>\n",
       "    .dataframe tbody tr th:only-of-type {\n",
       "        vertical-align: middle;\n",
       "    }\n",
       "\n",
       "    .dataframe tbody tr th {\n",
       "        vertical-align: top;\n",
       "    }\n",
       "\n",
       "    .dataframe thead th {\n",
       "        text-align: right;\n",
       "    }\n",
       "</style>\n",
       "<table border=\"1\" class=\"dataframe\">\n",
       "  <thead>\n",
       "    <tr style=\"text-align: right;\">\n",
       "      <th></th>\n",
       "      <th>surveyid</th>\n",
       "      <th>village</th>\n",
       "      <th>survey_date</th>\n",
       "      <th>femaleres</th>\n",
       "      <th>age</th>\n",
       "      <th>married</th>\n",
       "      <th>children</th>\n",
       "      <th>hhsize</th>\n",
       "      <th>edu</th>\n",
       "      <th>hh_children</th>\n",
       "      <th>...</th>\n",
       "      <th>given_mpesa</th>\n",
       "      <th>amount_given_mpesa</th>\n",
       "      <th>received_mpesa</th>\n",
       "      <th>amount_received_mpesa</th>\n",
       "      <th>net_mpesa</th>\n",
       "      <th>saved_mpesa</th>\n",
       "      <th>amount_saved_mpesa</th>\n",
       "      <th>early_survey</th>\n",
       "      <th>depressed</th>\n",
       "      <th>day_of_week</th>\n",
       "    </tr>\n",
       "  </thead>\n",
       "  <tbody>\n",
       "    <tr>\n",
       "      <th>0</th>\n",
       "      <td>926</td>\n",
       "      <td>91</td>\n",
       "      <td>23-Nov-61</td>\n",
       "      <td>1</td>\n",
       "      <td>28.0</td>\n",
       "      <td>1</td>\n",
       "      <td>4</td>\n",
       "      <td>6</td>\n",
       "      <td>10</td>\n",
       "      <td>0</td>\n",
       "      <td>...</td>\n",
       "      <td>0</td>\n",
       "      <td>0.0</td>\n",
       "      <td>0</td>\n",
       "      <td>0.000000</td>\n",
       "      <td>0.000000</td>\n",
       "      <td>1</td>\n",
       "      <td>0.000000</td>\n",
       "      <td>0</td>\n",
       "      <td>0</td>\n",
       "      <td>5</td>\n",
       "    </tr>\n",
       "    <tr>\n",
       "      <th>1</th>\n",
       "      <td>747</td>\n",
       "      <td>57</td>\n",
       "      <td>24-Oct-61</td>\n",
       "      <td>1</td>\n",
       "      <td>23.0</td>\n",
       "      <td>1</td>\n",
       "      <td>3</td>\n",
       "      <td>5</td>\n",
       "      <td>8</td>\n",
       "      <td>0</td>\n",
       "      <td>...</td>\n",
       "      <td>0</td>\n",
       "      <td>0.0</td>\n",
       "      <td>1</td>\n",
       "      <td>4.804611</td>\n",
       "      <td>4.804611</td>\n",
       "      <td>0</td>\n",
       "      <td>0.000000</td>\n",
       "      <td>0</td>\n",
       "      <td>1</td>\n",
       "      <td>3</td>\n",
       "    </tr>\n",
       "    <tr>\n",
       "      <th>2</th>\n",
       "      <td>1190</td>\n",
       "      <td>115</td>\n",
       "      <td>05-Oct-61</td>\n",
       "      <td>1</td>\n",
       "      <td>22.0</td>\n",
       "      <td>1</td>\n",
       "      <td>3</td>\n",
       "      <td>5</td>\n",
       "      <td>9</td>\n",
       "      <td>0</td>\n",
       "      <td>...</td>\n",
       "      <td>0</td>\n",
       "      <td>0.0</td>\n",
       "      <td>0</td>\n",
       "      <td>8.007685</td>\n",
       "      <td>8.007685</td>\n",
       "      <td>1</td>\n",
       "      <td>0.000000</td>\n",
       "      <td>0</td>\n",
       "      <td>0</td>\n",
       "      <td>5</td>\n",
       "    </tr>\n",
       "    <tr>\n",
       "      <th>3</th>\n",
       "      <td>1065</td>\n",
       "      <td>97</td>\n",
       "      <td>23-Sep-61</td>\n",
       "      <td>1</td>\n",
       "      <td>27.0</td>\n",
       "      <td>1</td>\n",
       "      <td>2</td>\n",
       "      <td>4</td>\n",
       "      <td>10</td>\n",
       "      <td>2</td>\n",
       "      <td>...</td>\n",
       "      <td>0</td>\n",
       "      <td>0.0</td>\n",
       "      <td>0</td>\n",
       "      <td>0.000000</td>\n",
       "      <td>0.000000</td>\n",
       "      <td>1</td>\n",
       "      <td>1.249199</td>\n",
       "      <td>0</td>\n",
       "      <td>0</td>\n",
       "      <td>0</td>\n",
       "    </tr>\n",
       "    <tr>\n",
       "      <th>4</th>\n",
       "      <td>806</td>\n",
       "      <td>42</td>\n",
       "      <td>12-Sep-61</td>\n",
       "      <td>0</td>\n",
       "      <td>59.0</td>\n",
       "      <td>0</td>\n",
       "      <td>4</td>\n",
       "      <td>6</td>\n",
       "      <td>10</td>\n",
       "      <td>4</td>\n",
       "      <td>...</td>\n",
       "      <td>0</td>\n",
       "      <td>0.0</td>\n",
       "      <td>0</td>\n",
       "      <td>0.000000</td>\n",
       "      <td>0.000000</td>\n",
       "      <td>0</td>\n",
       "      <td>0.000000</td>\n",
       "      <td>0</td>\n",
       "      <td>0</td>\n",
       "      <td>3</td>\n",
       "    </tr>\n",
       "    <tr>\n",
       "      <th>...</th>\n",
       "      <td>...</td>\n",
       "      <td>...</td>\n",
       "      <td>...</td>\n",
       "      <td>...</td>\n",
       "      <td>...</td>\n",
       "      <td>...</td>\n",
       "      <td>...</td>\n",
       "      <td>...</td>\n",
       "      <td>...</td>\n",
       "      <td>...</td>\n",
       "      <td>...</td>\n",
       "      <td>...</td>\n",
       "      <td>...</td>\n",
       "      <td>...</td>\n",
       "      <td>...</td>\n",
       "      <td>...</td>\n",
       "      <td>...</td>\n",
       "      <td>...</td>\n",
       "      <td>...</td>\n",
       "      <td>...</td>\n",
       "      <td>...</td>\n",
       "    </tr>\n",
       "    <tr>\n",
       "      <th>1138</th>\n",
       "      <td>927</td>\n",
       "      <td>152</td>\n",
       "      <td>27-Dec-61</td>\n",
       "      <td>1</td>\n",
       "      <td>36.0</td>\n",
       "      <td>0</td>\n",
       "      <td>4</td>\n",
       "      <td>5</td>\n",
       "      <td>9</td>\n",
       "      <td>0</td>\n",
       "      <td>...</td>\n",
       "      <td>0</td>\n",
       "      <td>0.0</td>\n",
       "      <td>0</td>\n",
       "      <td>0.000000</td>\n",
       "      <td>0.000000</td>\n",
       "      <td>0</td>\n",
       "      <td>0.000000</td>\n",
       "      <td>0</td>\n",
       "      <td>1</td>\n",
       "      <td>4</td>\n",
       "    </tr>\n",
       "    <tr>\n",
       "      <th>1139</th>\n",
       "      <td>1039</td>\n",
       "      <td>104</td>\n",
       "      <td>13-Sep-61</td>\n",
       "      <td>1</td>\n",
       "      <td>23.0</td>\n",
       "      <td>1</td>\n",
       "      <td>0</td>\n",
       "      <td>2</td>\n",
       "      <td>10</td>\n",
       "      <td>0</td>\n",
       "      <td>...</td>\n",
       "      <td>0</td>\n",
       "      <td>0.0</td>\n",
       "      <td>0</td>\n",
       "      <td>0.000000</td>\n",
       "      <td>0.000000</td>\n",
       "      <td>1</td>\n",
       "      <td>0.000000</td>\n",
       "      <td>0</td>\n",
       "      <td>0</td>\n",
       "      <td>4</td>\n",
       "    </tr>\n",
       "    <tr>\n",
       "      <th>1140</th>\n",
       "      <td>428</td>\n",
       "      <td>54</td>\n",
       "      <td>23-Nov-61</td>\n",
       "      <td>1</td>\n",
       "      <td>28.0</td>\n",
       "      <td>1</td>\n",
       "      <td>5</td>\n",
       "      <td>7</td>\n",
       "      <td>10</td>\n",
       "      <td>5</td>\n",
       "      <td>...</td>\n",
       "      <td>0</td>\n",
       "      <td>0.0</td>\n",
       "      <td>0</td>\n",
       "      <td>0.000000</td>\n",
       "      <td>0.000000</td>\n",
       "      <td>0</td>\n",
       "      <td>0.000000</td>\n",
       "      <td>0</td>\n",
       "      <td>0</td>\n",
       "      <td>5</td>\n",
       "    </tr>\n",
       "    <tr>\n",
       "      <th>1141</th>\n",
       "      <td>23</td>\n",
       "      <td>3</td>\n",
       "      <td>05-Oct-61</td>\n",
       "      <td>1</td>\n",
       "      <td>33.0</td>\n",
       "      <td>0</td>\n",
       "      <td>4</td>\n",
       "      <td>5</td>\n",
       "      <td>9</td>\n",
       "      <td>0</td>\n",
       "      <td>...</td>\n",
       "      <td>0</td>\n",
       "      <td>0.0</td>\n",
       "      <td>0</td>\n",
       "      <td>0.000000</td>\n",
       "      <td>0.000000</td>\n",
       "      <td>0</td>\n",
       "      <td>0.000000</td>\n",
       "      <td>0</td>\n",
       "      <td>0</td>\n",
       "      <td>5</td>\n",
       "    </tr>\n",
       "    <tr>\n",
       "      <th>1142</th>\n",
       "      <td>116</td>\n",
       "      <td>18</td>\n",
       "      <td>24-Sep-61</td>\n",
       "      <td>1</td>\n",
       "      <td>39.0</td>\n",
       "      <td>1</td>\n",
       "      <td>0</td>\n",
       "      <td>4</td>\n",
       "      <td>12</td>\n",
       "      <td>0</td>\n",
       "      <td>...</td>\n",
       "      <td>0</td>\n",
       "      <td>0.0</td>\n",
       "      <td>0</td>\n",
       "      <td>0.000000</td>\n",
       "      <td>0.000000</td>\n",
       "      <td>0</td>\n",
       "      <td>0.000000</td>\n",
       "      <td>0</td>\n",
       "      <td>1</td>\n",
       "      <td>1</td>\n",
       "    </tr>\n",
       "  </tbody>\n",
       "</table>\n",
       "<p>1143 rows × 60 columns</p>\n",
       "</div>"
      ],
      "text/plain": [
       "      surveyid  village survey_date  femaleres   age  married  children  \\\n",
       "0          926       91   23-Nov-61          1  28.0        1         4   \n",
       "1          747       57   24-Oct-61          1  23.0        1         3   \n",
       "2         1190      115   05-Oct-61          1  22.0        1         3   \n",
       "3         1065       97   23-Sep-61          1  27.0        1         2   \n",
       "4          806       42   12-Sep-61          0  59.0        0         4   \n",
       "...        ...      ...         ...        ...   ...      ...       ...   \n",
       "1138       927      152   27-Dec-61          1  36.0        0         4   \n",
       "1139      1039      104   13-Sep-61          1  23.0        1         0   \n",
       "1140       428       54   23-Nov-61          1  28.0        1         5   \n",
       "1141        23        3   05-Oct-61          1  33.0        0         4   \n",
       "1142       116       18   24-Sep-61          1  39.0        1         0   \n",
       "\n",
       "      hhsize  edu  hh_children  ...  given_mpesa  amount_given_mpesa  \\\n",
       "0          6   10            0  ...            0                 0.0   \n",
       "1          5    8            0  ...            0                 0.0   \n",
       "2          5    9            0  ...            0                 0.0   \n",
       "3          4   10            2  ...            0                 0.0   \n",
       "4          6   10            4  ...            0                 0.0   \n",
       "...      ...  ...          ...  ...          ...                 ...   \n",
       "1138       5    9            0  ...            0                 0.0   \n",
       "1139       2   10            0  ...            0                 0.0   \n",
       "1140       7   10            5  ...            0                 0.0   \n",
       "1141       5    9            0  ...            0                 0.0   \n",
       "1142       4   12            0  ...            0                 0.0   \n",
       "\n",
       "      received_mpesa  amount_received_mpesa  net_mpesa  saved_mpesa  \\\n",
       "0                  0               0.000000   0.000000            1   \n",
       "1                  1               4.804611   4.804611            0   \n",
       "2                  0               8.007685   8.007685            1   \n",
       "3                  0               0.000000   0.000000            1   \n",
       "4                  0               0.000000   0.000000            0   \n",
       "...              ...                    ...        ...          ...   \n",
       "1138               0               0.000000   0.000000            0   \n",
       "1139               0               0.000000   0.000000            1   \n",
       "1140               0               0.000000   0.000000            0   \n",
       "1141               0               0.000000   0.000000            0   \n",
       "1142               0               0.000000   0.000000            0   \n",
       "\n",
       "      amount_saved_mpesa  early_survey  depressed  day_of_week  \n",
       "0               0.000000             0          0            5  \n",
       "1               0.000000             0          1            3  \n",
       "2               0.000000             0          0            5  \n",
       "3               1.249199             0          0            0  \n",
       "4               0.000000             0          0            3  \n",
       "...                  ...           ...        ...          ...  \n",
       "1138            0.000000             0          1            4  \n",
       "1139            0.000000             0          0            4  \n",
       "1140            0.000000             0          0            5  \n",
       "1141            0.000000             0          0            5  \n",
       "1142            0.000000             0          1            1  \n",
       "\n",
       "[1143 rows x 60 columns]"
      ]
     },
     "execution_count": 236,
     "metadata": {},
     "output_type": "execute_result"
    }
   ],
   "source": [
    "df[features]"
   ]
  },
  {
   "cell_type": "code",
   "execution_count": null,
   "metadata": {},
   "outputs": [],
   "source": []
  }
 ],
 "metadata": {
  "kernelspec": {
   "display_name": "Python 3",
   "language": "python",
   "name": "python3"
  },
  "language_info": {
   "codemirror_mode": {
    "name": "ipython",
    "version": 3
   },
   "file_extension": ".py",
   "mimetype": "text/x-python",
   "name": "python",
   "nbconvert_exporter": "python",
   "pygments_lexer": "ipython3",
   "version": "3.7.5"
  }
 },
 "nbformat": 4,
 "nbformat_minor": 2
}
